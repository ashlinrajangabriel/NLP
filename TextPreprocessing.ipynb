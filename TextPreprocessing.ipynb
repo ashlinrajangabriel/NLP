{
 "cells": [
  {
   "cell_type": "code",
   "execution_count": 74,
   "id": "4561ff15",
   "metadata": {},
   "outputs": [],
   "source": [
    "import pandas as pd\n",
    "import nltk \n",
    "from bs4 import BeautifulSoup\n",
    "import string\n",
    "from nltk.corpus import stopwords\n",
    "from nltk.corpus import RegexpTokenizer\n",
    "from nltk.stem import WordNetLemmatizer\n",
    "from nltk.stem.porter import PorterStemmer"
   ]
  },
  {
   "cell_type": "code",
   "execution_count": 75,
   "id": "d5ec736c",
   "metadata": {},
   "outputs": [],
   "source": [
    "review_df = pd.read_csv('./1.Data/amazon_co-ecommerce_sample.csv')"
   ]
  },
  {
   "cell_type": "code",
   "execution_count": 76,
   "id": "67239366",
   "metadata": {},
   "outputs": [
    {
     "data": {
      "text/plain": [
       "(10000, 17)"
      ]
     },
     "execution_count": 76,
     "metadata": {},
     "output_type": "execute_result"
    }
   ],
   "source": [
    "review_df.shape"
   ]
  },
  {
   "cell_type": "code",
   "execution_count": 77,
   "id": "fe413e93",
   "metadata": {},
   "outputs": [
    {
     "data": {
      "text/html": [
       "<div>\n",
       "<style scoped>\n",
       "    .dataframe tbody tr th:only-of-type {\n",
       "        vertical-align: middle;\n",
       "    }\n",
       "\n",
       "    .dataframe tbody tr th {\n",
       "        vertical-align: top;\n",
       "    }\n",
       "\n",
       "    .dataframe thead th {\n",
       "        text-align: right;\n",
       "    }\n",
       "</style>\n",
       "<table border=\"1\" class=\"dataframe\">\n",
       "  <thead>\n",
       "    <tr style=\"text-align: right;\">\n",
       "      <th></th>\n",
       "      <th>uniq_id</th>\n",
       "      <th>product_name</th>\n",
       "      <th>manufacturer</th>\n",
       "      <th>price</th>\n",
       "      <th>number_available_in_stock</th>\n",
       "      <th>number_of_reviews</th>\n",
       "      <th>number_of_answered_questions</th>\n",
       "      <th>average_review_rating</th>\n",
       "      <th>amazon_category_and_sub_category</th>\n",
       "      <th>customers_who_bought_this_item_also_bought</th>\n",
       "      <th>description</th>\n",
       "      <th>product_information</th>\n",
       "      <th>product_description</th>\n",
       "      <th>items_customers_buy_after_viewing_this_item</th>\n",
       "      <th>customer_questions_and_answers</th>\n",
       "      <th>customer_reviews</th>\n",
       "      <th>sellers</th>\n",
       "    </tr>\n",
       "  </thead>\n",
       "  <tbody>\n",
       "    <tr>\n",
       "      <th>0</th>\n",
       "      <td>eac7efa5dbd3d667f26eb3d3ab504464</td>\n",
       "      <td>Hornby 2014 Catalogue</td>\n",
       "      <td>Hornby</td>\n",
       "      <td>£3.42</td>\n",
       "      <td>5 new</td>\n",
       "      <td>15</td>\n",
       "      <td>1.0</td>\n",
       "      <td>4.9 out of 5 stars</td>\n",
       "      <td>Hobbies &gt; Model Trains &amp; Railway Sets &gt; Rail V...</td>\n",
       "      <td>http://www.amazon.co.uk/Hornby-R8150-Catalogue...</td>\n",
       "      <td>Product Description Hornby 2014 Catalogue Box ...</td>\n",
       "      <td>Technical Details Item Weight640 g Product Dim...</td>\n",
       "      <td>Product Description Hornby 2014 Catalogue Box ...</td>\n",
       "      <td>http://www.amazon.co.uk/Hornby-R8150-Catalogue...</td>\n",
       "      <td>Does this catalogue detail all the previous Ho...</td>\n",
       "      <td>Worth Buying For The Pictures Alone (As Ever) ...</td>\n",
       "      <td>{\"seller\"=&gt;[{\"Seller_name_1\"=&gt;\"Amazon.co.uk\", ...</td>\n",
       "    </tr>\n",
       "    <tr>\n",
       "      <th>1</th>\n",
       "      <td>b17540ef7e86e461d37f3ae58b7b72ac</td>\n",
       "      <td>FunkyBuys® Large Christmas Holiday Express Fes...</td>\n",
       "      <td>FunkyBuys</td>\n",
       "      <td>£16.99</td>\n",
       "      <td>NaN</td>\n",
       "      <td>2</td>\n",
       "      <td>1.0</td>\n",
       "      <td>4.5 out of 5 stars</td>\n",
       "      <td>Hobbies &gt; Model Trains &amp; Railway Sets &gt; Rail V...</td>\n",
       "      <td>http://www.amazon.co.uk/Christmas-Holiday-Expr...</td>\n",
       "      <td>Size Name:Large FunkyBuys® Large Christmas Hol...</td>\n",
       "      <td>Technical Details Manufacturer recommended age...</td>\n",
       "      <td>Size Name:Large FunkyBuys® Large Christmas Hol...</td>\n",
       "      <td>http://www.amazon.co.uk/Christmas-Holiday-Expr...</td>\n",
       "      <td>can you turn off sounds // hi no you cant turn...</td>\n",
       "      <td>Four Stars // 4.0 // 18 Dec. 2015 // By\\n    \\...</td>\n",
       "      <td>{\"seller\"=&gt;{\"Seller_name_1\"=&gt;\"UHD WHOLESALE\", ...</td>\n",
       "    </tr>\n",
       "    <tr>\n",
       "      <th>2</th>\n",
       "      <td>348f344247b0c1a935b1223072ef9d8a</td>\n",
       "      <td>CLASSIC TOY TRAIN SET TRACK CARRIAGES LIGHT EN...</td>\n",
       "      <td>ccf</td>\n",
       "      <td>£9.99</td>\n",
       "      <td>2 new</td>\n",
       "      <td>17</td>\n",
       "      <td>2.0</td>\n",
       "      <td>3.9 out of 5 stars</td>\n",
       "      <td>Hobbies &gt; Model Trains &amp; Railway Sets &gt; Rail V...</td>\n",
       "      <td>http://www.amazon.co.uk/Classic-Train-Lights-B...</td>\n",
       "      <td>BIG CLASSIC TOY TRAIN SET TRACK CARRIAGE LIGHT...</td>\n",
       "      <td>Technical Details Manufacturer recommended age...</td>\n",
       "      <td>BIG CLASSIC TOY TRAIN SET TRACK CARRIAGE LIGHT...</td>\n",
       "      <td>http://www.amazon.co.uk/Train-With-Tracks-Batt...</td>\n",
       "      <td>What is the gauge of the track // Hi Paul.Trut...</td>\n",
       "      <td>**Highly Recommended!** // 5.0 // 26 May 2015 ...</td>\n",
       "      <td>{\"seller\"=&gt;[{\"Seller_name_1\"=&gt;\"DEAL-BOX\", \"Sel...</td>\n",
       "    </tr>\n",
       "    <tr>\n",
       "      <th>3</th>\n",
       "      <td>e12b92dbb8eaee78b22965d2a9bbbd9f</td>\n",
       "      <td>HORNBY Coach R4410A BR Hawksworth Corridor 3rd</td>\n",
       "      <td>Hornby</td>\n",
       "      <td>£39.99</td>\n",
       "      <td>NaN</td>\n",
       "      <td>1</td>\n",
       "      <td>2.0</td>\n",
       "      <td>5.0 out of 5 stars</td>\n",
       "      <td>Hobbies &gt; Model Trains &amp; Railway Sets &gt; Rail V...</td>\n",
       "      <td>NaN</td>\n",
       "      <td>Hornby 00 Gauge BR Hawksworth 3rd Class W 2107...</td>\n",
       "      <td>Technical Details Item Weight259 g Product Dim...</td>\n",
       "      <td>Hornby 00 Gauge BR Hawksworth 3rd Class W 2107...</td>\n",
       "      <td>NaN</td>\n",
       "      <td>NaN</td>\n",
       "      <td>I love it // 5.0 // 22 July 2013 // By\\n    \\n...</td>\n",
       "      <td>NaN</td>\n",
       "    </tr>\n",
       "    <tr>\n",
       "      <th>4</th>\n",
       "      <td>e33a9adeed5f36840ccc227db4682a36</td>\n",
       "      <td>Hornby 00 Gauge 0-4-0 Gildenlow Salt Co. Steam...</td>\n",
       "      <td>Hornby</td>\n",
       "      <td>£32.19</td>\n",
       "      <td>NaN</td>\n",
       "      <td>3</td>\n",
       "      <td>2.0</td>\n",
       "      <td>4.7 out of 5 stars</td>\n",
       "      <td>Hobbies &gt; Model Trains &amp; Railway Sets &gt; Rail V...</td>\n",
       "      <td>http://www.amazon.co.uk/Hornby-R6367-RailRoad-...</td>\n",
       "      <td>Product Description Hornby RailRoad 0-4-0 Gild...</td>\n",
       "      <td>Technical Details Item Weight159 g Product Dim...</td>\n",
       "      <td>Product Description Hornby RailRoad 0-4-0 Gild...</td>\n",
       "      <td>http://www.amazon.co.uk/Hornby-R2672-RailRoad-...</td>\n",
       "      <td>NaN</td>\n",
       "      <td>Birthday present // 5.0 // 14 April 2014 // By...</td>\n",
       "      <td>NaN</td>\n",
       "    </tr>\n",
       "    <tr>\n",
       "      <th>...</th>\n",
       "      <td>...</td>\n",
       "      <td>...</td>\n",
       "      <td>...</td>\n",
       "      <td>...</td>\n",
       "      <td>...</td>\n",
       "      <td>...</td>\n",
       "      <td>...</td>\n",
       "      <td>...</td>\n",
       "      <td>...</td>\n",
       "      <td>...</td>\n",
       "      <td>...</td>\n",
       "      <td>...</td>\n",
       "      <td>...</td>\n",
       "      <td>...</td>\n",
       "      <td>...</td>\n",
       "      <td>...</td>\n",
       "      <td>...</td>\n",
       "    </tr>\n",
       "    <tr>\n",
       "      <th>9995</th>\n",
       "      <td>44d6967f083825a5de36ad4865a65bcd</td>\n",
       "      <td>Batman 1966 TV Series Action Figures - The Rid...</td>\n",
       "      <td>Mattel</td>\n",
       "      <td>£22.95</td>\n",
       "      <td>5 new</td>\n",
       "      <td>3</td>\n",
       "      <td>3.0</td>\n",
       "      <td>5.0 out of 5 stars</td>\n",
       "      <td>Hobbies &gt; Collectible Figures &amp; Memorabilia &gt; ...</td>\n",
       "      <td>http://www.amazon.co.uk/Batman-1966-Series-Act...</td>\n",
       "      <td>DC 66 Batman Classic TV Series 6 Inch Riddler ...</td>\n",
       "      <td>Technical Details Item Weight136 g Product Dim...</td>\n",
       "      <td>DC 66 Batman Classic TV Series 6 Inch Riddler ...</td>\n",
       "      <td>NaN</td>\n",
       "      <td>NaN</td>\n",
       "      <td>Realistic // 5.0 // 31 Mar. 2014 // By\\n    \\n...</td>\n",
       "      <td>{\"seller\"=&gt;[{\"Seller_name_1\"=&gt;\"Star Action Fig...</td>\n",
       "    </tr>\n",
       "    <tr>\n",
       "      <th>9996</th>\n",
       "      <td>08f0747b6fc6687215ffb994c3a6fb32</td>\n",
       "      <td>Star Wars Costume, Kids Stormtrooper Costume S...</td>\n",
       "      <td>Star Wars</td>\n",
       "      <td>£39.99</td>\n",
       "      <td>NaN</td>\n",
       "      <td>1</td>\n",
       "      <td>3.0</td>\n",
       "      <td>4.0 out of 5 stars</td>\n",
       "      <td>Characters &amp; Brands &gt; Star Wars &gt; Toys</td>\n",
       "      <td>http://www.amazon.co.uk/Storm-Trooper-Costume-...</td>\n",
       "      <td>NaN</td>\n",
       "      <td>Technical Details    Additional Information AS...</td>\n",
       "      <td>NaN</td>\n",
       "      <td>http://www.amazon.co.uk/Storm-Trooper-Costume-...</td>\n",
       "      <td>NaN</td>\n",
       "      <td>... what I see my grandson us going to have fu...</td>\n",
       "      <td>NaN</td>\n",
       "    </tr>\n",
       "    <tr>\n",
       "      <th>9997</th>\n",
       "      <td>bf6cc073f8f24e6e338190fa16f6ee9d</td>\n",
       "      <td>Defiance Lawkeeper Metal Badge Prop Replica</td>\n",
       "      <td>Olde Scotland Yard Ltd.</td>\n",
       "      <td>£43.99</td>\n",
       "      <td>3 new</td>\n",
       "      <td>1</td>\n",
       "      <td>3.0</td>\n",
       "      <td>5.0 out of 5 stars</td>\n",
       "      <td>Novelty &amp; Special Use &gt; Novelty &gt; Accessories ...</td>\n",
       "      <td>NaN</td>\n",
       "      <td>*Includes 1x Badge with holder and chain *High...</td>\n",
       "      <td>Technical Details Item Weight159 g Product Dim...</td>\n",
       "      <td>*Includes 1x Badge with holder and chain *High...</td>\n",
       "      <td>http://www.amazon.co.uk/Olde-Scotland-Yard-Ltd...</td>\n",
       "      <td>NaN</td>\n",
       "      <td>Five Stars // 5.0 // 18 Dec. 2015 // By\\n    \\...</td>\n",
       "      <td>{\"seller\"=&gt;[{\"Seller_name_1\"=&gt;\"YUK\", \"Seller_p...</td>\n",
       "    </tr>\n",
       "    <tr>\n",
       "      <th>9998</th>\n",
       "      <td>cd783d0b8b44e631b9788b203eaaefae</td>\n",
       "      <td>Justice League of America Series 3 Green Lante...</td>\n",
       "      <td>DC Comics</td>\n",
       "      <td>£49.81</td>\n",
       "      <td>3 new</td>\n",
       "      <td>1</td>\n",
       "      <td>3.0</td>\n",
       "      <td>5.0 out of 5 stars</td>\n",
       "      <td>Hobbies &gt; Collectible Figures &amp; Memorabilia &gt; ...</td>\n",
       "      <td>NaN</td>\n",
       "      <td>Designed by Ed BenesIt's here - the third seri...</td>\n",
       "      <td>Technical Details Item Weight181 g Product Dim...</td>\n",
       "      <td>Designed by Ed BenesIt's here - the third seri...</td>\n",
       "      <td>NaN</td>\n",
       "      <td>NaN</td>\n",
       "      <td>The best sculpt in a while // 5.0 // 13 May 20...</td>\n",
       "      <td>{\"seller\"=&gt;[{\"Seller_name_1\"=&gt;\"Smaller World F...</td>\n",
       "    </tr>\n",
       "    <tr>\n",
       "      <th>9999</th>\n",
       "      <td>94d18e86e504bee1e392df7e5738b18a</td>\n",
       "      <td>Star Wars 1/72 Y-Wing Starfighter</td>\n",
       "      <td>Bandai</td>\n",
       "      <td>£21.20</td>\n",
       "      <td>31 new</td>\n",
       "      <td>11</td>\n",
       "      <td>3.0</td>\n",
       "      <td>4.5 out of 5 stars</td>\n",
       "      <td>Characters &amp; Brands &gt; Star Wars &gt; Toys</td>\n",
       "      <td>http://www.amazon.co.uk/Bandai-Star-Wars-Fight...</td>\n",
       "      <td>NaN</td>\n",
       "      <td>Technical Details Item Weight299 g Product Dim...</td>\n",
       "      <td>NaN</td>\n",
       "      <td>NaN</td>\n",
       "      <td>NaN</td>\n",
       "      <td>Gold leader // 5.0 // 31 Aug. 2015 // By\\n    ...</td>\n",
       "      <td>NaN</td>\n",
       "    </tr>\n",
       "  </tbody>\n",
       "</table>\n",
       "<p>10000 rows × 17 columns</p>\n",
       "</div>"
      ],
      "text/plain": [
       "                               uniq_id  \\\n",
       "0     eac7efa5dbd3d667f26eb3d3ab504464   \n",
       "1     b17540ef7e86e461d37f3ae58b7b72ac   \n",
       "2     348f344247b0c1a935b1223072ef9d8a   \n",
       "3     e12b92dbb8eaee78b22965d2a9bbbd9f   \n",
       "4     e33a9adeed5f36840ccc227db4682a36   \n",
       "...                                ...   \n",
       "9995  44d6967f083825a5de36ad4865a65bcd   \n",
       "9996  08f0747b6fc6687215ffb994c3a6fb32   \n",
       "9997  bf6cc073f8f24e6e338190fa16f6ee9d   \n",
       "9998  cd783d0b8b44e631b9788b203eaaefae   \n",
       "9999  94d18e86e504bee1e392df7e5738b18a   \n",
       "\n",
       "                                           product_name  \\\n",
       "0                                 Hornby 2014 Catalogue   \n",
       "1     FunkyBuys® Large Christmas Holiday Express Fes...   \n",
       "2     CLASSIC TOY TRAIN SET TRACK CARRIAGES LIGHT EN...   \n",
       "3        HORNBY Coach R4410A BR Hawksworth Corridor 3rd   \n",
       "4     Hornby 00 Gauge 0-4-0 Gildenlow Salt Co. Steam...   \n",
       "...                                                 ...   \n",
       "9995  Batman 1966 TV Series Action Figures - The Rid...   \n",
       "9996  Star Wars Costume, Kids Stormtrooper Costume S...   \n",
       "9997        Defiance Lawkeeper Metal Badge Prop Replica   \n",
       "9998  Justice League of America Series 3 Green Lante...   \n",
       "9999                  Star Wars 1/72 Y-Wing Starfighter   \n",
       "\n",
       "                 manufacturer   price number_available_in_stock  \\\n",
       "0                      Hornby   £3.42                     5 new   \n",
       "1                   FunkyBuys  £16.99                       NaN   \n",
       "2                         ccf   £9.99                     2 new   \n",
       "3                      Hornby  £39.99                       NaN   \n",
       "4                      Hornby  £32.19                       NaN   \n",
       "...                       ...     ...                       ...   \n",
       "9995                   Mattel  £22.95                     5 new   \n",
       "9996                Star Wars  £39.99                       NaN   \n",
       "9997  Olde Scotland Yard Ltd.  £43.99                     3 new   \n",
       "9998                DC Comics  £49.81                     3 new   \n",
       "9999                   Bandai  £21.20                    31 new   \n",
       "\n",
       "     number_of_reviews  number_of_answered_questions average_review_rating  \\\n",
       "0                   15                           1.0    4.9 out of 5 stars   \n",
       "1                    2                           1.0    4.5 out of 5 stars   \n",
       "2                   17                           2.0    3.9 out of 5 stars   \n",
       "3                    1                           2.0    5.0 out of 5 stars   \n",
       "4                    3                           2.0    4.7 out of 5 stars   \n",
       "...                ...                           ...                   ...   \n",
       "9995                 3                           3.0    5.0 out of 5 stars   \n",
       "9996                 1                           3.0    4.0 out of 5 stars   \n",
       "9997                 1                           3.0    5.0 out of 5 stars   \n",
       "9998                 1                           3.0    5.0 out of 5 stars   \n",
       "9999                11                           3.0    4.5 out of 5 stars   \n",
       "\n",
       "                       amazon_category_and_sub_category  \\\n",
       "0     Hobbies > Model Trains & Railway Sets > Rail V...   \n",
       "1     Hobbies > Model Trains & Railway Sets > Rail V...   \n",
       "2     Hobbies > Model Trains & Railway Sets > Rail V...   \n",
       "3     Hobbies > Model Trains & Railway Sets > Rail V...   \n",
       "4     Hobbies > Model Trains & Railway Sets > Rail V...   \n",
       "...                                                 ...   \n",
       "9995  Hobbies > Collectible Figures & Memorabilia > ...   \n",
       "9996             Characters & Brands > Star Wars > Toys   \n",
       "9997  Novelty & Special Use > Novelty > Accessories ...   \n",
       "9998  Hobbies > Collectible Figures & Memorabilia > ...   \n",
       "9999             Characters & Brands > Star Wars > Toys   \n",
       "\n",
       "             customers_who_bought_this_item_also_bought  \\\n",
       "0     http://www.amazon.co.uk/Hornby-R8150-Catalogue...   \n",
       "1     http://www.amazon.co.uk/Christmas-Holiday-Expr...   \n",
       "2     http://www.amazon.co.uk/Classic-Train-Lights-B...   \n",
       "3                                                   NaN   \n",
       "4     http://www.amazon.co.uk/Hornby-R6367-RailRoad-...   \n",
       "...                                                 ...   \n",
       "9995  http://www.amazon.co.uk/Batman-1966-Series-Act...   \n",
       "9996  http://www.amazon.co.uk/Storm-Trooper-Costume-...   \n",
       "9997                                                NaN   \n",
       "9998                                                NaN   \n",
       "9999  http://www.amazon.co.uk/Bandai-Star-Wars-Fight...   \n",
       "\n",
       "                                            description  \\\n",
       "0     Product Description Hornby 2014 Catalogue Box ...   \n",
       "1     Size Name:Large FunkyBuys® Large Christmas Hol...   \n",
       "2     BIG CLASSIC TOY TRAIN SET TRACK CARRIAGE LIGHT...   \n",
       "3     Hornby 00 Gauge BR Hawksworth 3rd Class W 2107...   \n",
       "4     Product Description Hornby RailRoad 0-4-0 Gild...   \n",
       "...                                                 ...   \n",
       "9995  DC 66 Batman Classic TV Series 6 Inch Riddler ...   \n",
       "9996                                                NaN   \n",
       "9997  *Includes 1x Badge with holder and chain *High...   \n",
       "9998  Designed by Ed BenesIt's here - the third seri...   \n",
       "9999                                                NaN   \n",
       "\n",
       "                                    product_information  \\\n",
       "0     Technical Details Item Weight640 g Product Dim...   \n",
       "1     Technical Details Manufacturer recommended age...   \n",
       "2     Technical Details Manufacturer recommended age...   \n",
       "3     Technical Details Item Weight259 g Product Dim...   \n",
       "4     Technical Details Item Weight159 g Product Dim...   \n",
       "...                                                 ...   \n",
       "9995  Technical Details Item Weight136 g Product Dim...   \n",
       "9996  Technical Details    Additional Information AS...   \n",
       "9997  Technical Details Item Weight159 g Product Dim...   \n",
       "9998  Technical Details Item Weight181 g Product Dim...   \n",
       "9999  Technical Details Item Weight299 g Product Dim...   \n",
       "\n",
       "                                    product_description  \\\n",
       "0     Product Description Hornby 2014 Catalogue Box ...   \n",
       "1     Size Name:Large FunkyBuys® Large Christmas Hol...   \n",
       "2     BIG CLASSIC TOY TRAIN SET TRACK CARRIAGE LIGHT...   \n",
       "3     Hornby 00 Gauge BR Hawksworth 3rd Class W 2107...   \n",
       "4     Product Description Hornby RailRoad 0-4-0 Gild...   \n",
       "...                                                 ...   \n",
       "9995  DC 66 Batman Classic TV Series 6 Inch Riddler ...   \n",
       "9996                                                NaN   \n",
       "9997  *Includes 1x Badge with holder and chain *High...   \n",
       "9998  Designed by Ed BenesIt's here - the third seri...   \n",
       "9999                                                NaN   \n",
       "\n",
       "            items_customers_buy_after_viewing_this_item  \\\n",
       "0     http://www.amazon.co.uk/Hornby-R8150-Catalogue...   \n",
       "1     http://www.amazon.co.uk/Christmas-Holiday-Expr...   \n",
       "2     http://www.amazon.co.uk/Train-With-Tracks-Batt...   \n",
       "3                                                   NaN   \n",
       "4     http://www.amazon.co.uk/Hornby-R2672-RailRoad-...   \n",
       "...                                                 ...   \n",
       "9995                                                NaN   \n",
       "9996  http://www.amazon.co.uk/Storm-Trooper-Costume-...   \n",
       "9997  http://www.amazon.co.uk/Olde-Scotland-Yard-Ltd...   \n",
       "9998                                                NaN   \n",
       "9999                                                NaN   \n",
       "\n",
       "                         customer_questions_and_answers  \\\n",
       "0     Does this catalogue detail all the previous Ho...   \n",
       "1     can you turn off sounds // hi no you cant turn...   \n",
       "2     What is the gauge of the track // Hi Paul.Trut...   \n",
       "3                                                   NaN   \n",
       "4                                                   NaN   \n",
       "...                                                 ...   \n",
       "9995                                                NaN   \n",
       "9996                                                NaN   \n",
       "9997                                                NaN   \n",
       "9998                                                NaN   \n",
       "9999                                                NaN   \n",
       "\n",
       "                                       customer_reviews  \\\n",
       "0     Worth Buying For The Pictures Alone (As Ever) ...   \n",
       "1     Four Stars // 4.0 // 18 Dec. 2015 // By\\n    \\...   \n",
       "2     **Highly Recommended!** // 5.0 // 26 May 2015 ...   \n",
       "3     I love it // 5.0 // 22 July 2013 // By\\n    \\n...   \n",
       "4     Birthday present // 5.0 // 14 April 2014 // By...   \n",
       "...                                                 ...   \n",
       "9995  Realistic // 5.0 // 31 Mar. 2014 // By\\n    \\n...   \n",
       "9996  ... what I see my grandson us going to have fu...   \n",
       "9997  Five Stars // 5.0 // 18 Dec. 2015 // By\\n    \\...   \n",
       "9998  The best sculpt in a while // 5.0 // 13 May 20...   \n",
       "9999  Gold leader // 5.0 // 31 Aug. 2015 // By\\n    ...   \n",
       "\n",
       "                                                sellers  \n",
       "0     {\"seller\"=>[{\"Seller_name_1\"=>\"Amazon.co.uk\", ...  \n",
       "1     {\"seller\"=>{\"Seller_name_1\"=>\"UHD WHOLESALE\", ...  \n",
       "2     {\"seller\"=>[{\"Seller_name_1\"=>\"DEAL-BOX\", \"Sel...  \n",
       "3                                                   NaN  \n",
       "4                                                   NaN  \n",
       "...                                                 ...  \n",
       "9995  {\"seller\"=>[{\"Seller_name_1\"=>\"Star Action Fig...  \n",
       "9996                                                NaN  \n",
       "9997  {\"seller\"=>[{\"Seller_name_1\"=>\"YUK\", \"Seller_p...  \n",
       "9998  {\"seller\"=>[{\"Seller_name_1\"=>\"Smaller World F...  \n",
       "9999                                                NaN  \n",
       "\n",
       "[10000 rows x 17 columns]"
      ]
     },
     "execution_count": 77,
     "metadata": {},
     "output_type": "execute_result"
    }
   ],
   "source": [
    "review_df"
   ]
  },
  {
   "cell_type": "code",
   "execution_count": 78,
   "id": "b6af6c15",
   "metadata": {},
   "outputs": [
    {
     "data": {
      "text/plain": [
       "\"I love it // 5.0 // 22 July 2013 // By\\n    \\n    Lilla Lukacs\\n  \\n on 22 July 2013 // I love it. Perfect with the earlier ordered locomotive.Again: I would recommend it to the masters of the topic. It's not just a toy.\""
      ]
     },
     "execution_count": 78,
     "metadata": {},
     "output_type": "execute_result"
    }
   ],
   "source": [
    "review_df['customer_reviews'][3]"
   ]
  },
  {
   "cell_type": "code",
   "execution_count": 79,
   "id": "3c3eb6fb",
   "metadata": {},
   "outputs": [],
   "source": [
    "#We need to seperate review column by breaks\n",
    "reviews = review_df['customer_reviews'].str.split(\"//\",n=4,expand=True)"
   ]
  },
  {
   "cell_type": "code",
   "execution_count": 80,
   "id": "a534b97f",
   "metadata": {},
   "outputs": [],
   "source": [
    "review_df['review_title']=reviews[0]\n",
    "review_df['rating'] = reviews[1]\n",
    "review_df['review_date']= reviews[2]\n",
    "review_df['customer_name']=reviews[3]\n",
    "review_df['review'] = reviews[4]\n",
    "review_df.drop(columns='customer_reviews',inplace=True)"
   ]
  },
  {
   "cell_type": "code",
   "execution_count": 81,
   "id": "d9a516c2",
   "metadata": {},
   "outputs": [],
   "source": [
    "def remove_html(text):\n",
    "    soup = BeautifulSoup(text,'lxml')\n",
    "    html_free = soup.get_text()\n",
    "    return html_free"
   ]
  },
  {
   "cell_type": "code",
   "execution_count": 82,
   "id": "5702f19e",
   "metadata": {},
   "outputs": [],
   "source": [
    "def remove_punctuation(text):\n",
    "    no_punct = \"\".join([c for c in text if c not in string.punctuation])\n",
    "    return no_punct"
   ]
  },
  {
   "cell_type": "code",
   "execution_count": 87,
   "id": "cfb20b78",
   "metadata": {},
   "outputs": [],
   "source": [
    "review_df['review'] = review_df['review'].apply(lambda x: remove_punctuation(str(x)))\n"
   ]
  },
  {
   "cell_type": "code",
   "execution_count": 88,
   "id": "0969c88f",
   "metadata": {},
   "outputs": [
    {
     "data": {
      "text/plain": [
       "0     Part of the magic for me growing up as a boy ...\n",
       "1     Very happy with the communication with funkyb...\n",
       "2     Simple  GREAT FUN for 5My nephews face was am...\n",
       "3     I love it Perfect with the earlier ordered lo...\n",
       "4     Bought this for my Grandsons birthday  He is ...\n",
       "Name: review, dtype: object"
      ]
     },
     "execution_count": 88,
     "metadata": {},
     "output_type": "execute_result"
    }
   ],
   "source": [
    "review_df['review'].head()"
   ]
  },
  {
   "cell_type": "code",
   "execution_count": 89,
   "id": "4e999728",
   "metadata": {},
   "outputs": [],
   "source": [
    "#Tokenize ( also removes punctuation and is a better option for this data in particular. We can also add.lower() in the lambda function to make everything lowercase. with regex)"
   ]
  },
  {
   "cell_type": "code",
   "execution_count": 91,
   "id": "3565584b",
   "metadata": {},
   "outputs": [],
   "source": [
    "tokenizer = RegexpTokenizer(r'\\w+')"
   ]
  },
  {
   "cell_type": "code",
   "execution_count": 96,
   "id": "917dc389",
   "metadata": {},
   "outputs": [],
   "source": [
    "review_df['review']=review_df['review'].apply(lambda x: tokenizer.tokenize(x.lower()))\n"
   ]
  },
  {
   "cell_type": "code",
   "execution_count": 97,
   "id": "ff800d4b",
   "metadata": {},
   "outputs": [
    {
     "data": {
      "text/plain": [
       "0     [part, of, the, magic, for, me, growing, up, a...\n",
       "1     [very, happy, with, the, communication, with, ...\n",
       "2     [simple, great, fun, for, 5my, nephews, face, ...\n",
       "3     [i, love, it, perfect, with, the, earlier, ord...\n",
       "4     [bought, this, for, my, grandsons, birthday, h...\n",
       "5     [the, victorian, style, added, to, the, charac...\n",
       "6     [high, standard, model, well, worth, the, wait...\n",
       "7     [this, has, gone, down, very, well, this, chri...\n",
       "8     [xmas, box, for, grandsonam, sure, it, will, b...\n",
       "9     [we, bought, this, and, 2, othersfor, our, gra...\n",
       "10             [grandson, loved, it, hauls, good, load]\n",
       "11                    [very, good, product, thank, you]\n",
       "12                                         [very, good]\n",
       "13    [beautiful, model, if, your, a, fan, of, the, ...\n",
       "14    [great, quality, lots, of, detail, run, nic, a...\n",
       "15    [fantastic, little, set, beautifully, made, an...\n",
       "16    [the, product, is, as, expected, the, only, wo...\n",
       "17    [my, 2, year, old, loves, chuggington, so, we,...\n",
       "18                        [lovely, quality, from, kato]\n",
       "19    [i, now, have, a, second, of, these, bachmann,...\n",
       "Name: review, dtype: object"
      ]
     },
     "execution_count": 97,
     "metadata": {},
     "output_type": "execute_result"
    }
   ],
   "source": [
    "review_df['review'].head(20)"
   ]
  },
  {
   "cell_type": "code",
   "execution_count": null,
   "id": "d46f6f9d",
   "metadata": {},
   "outputs": [],
   "source": []
  },
  {
   "cell_type": "markdown",
   "id": "81a7dead",
   "metadata": {},
   "source": [
    "# Some other examples of RegEx are:\n",
    "* ‘\\w+|\\$[\\d\\.]+|\\S+’ = splits up by spaces or by periods that are not attached to a digit\n",
    "* ‘\\s+’, gaps=True = grabs everything except spaces as a token\n",
    "* ‘[A-Z]\\w+’ = only words that begin with a capital letter."
   ]
  },
  {
   "cell_type": "code",
   "execution_count": 98,
   "id": "01d9704f",
   "metadata": {},
   "outputs": [],
   "source": [
    "#Remove stopwords"
   ]
  },
  {
   "cell_type": "code",
   "execution_count": 100,
   "id": "3421bb24",
   "metadata": {},
   "outputs": [],
   "source": [
    "def remove_stopwords(text):\n",
    "    words = [w for w in text if w not in stopwords.words('english')]\n",
    "    return words"
   ]
  },
  {
   "cell_type": "code",
   "execution_count": 101,
   "id": "889a4813",
   "metadata": {},
   "outputs": [],
   "source": [
    "review_df['review'] = review_df['review'].apply(lambda x : remove_stopwords(x))"
   ]
  },
  {
   "cell_type": "code",
   "execution_count": 102,
   "id": "51af158d",
   "metadata": {},
   "outputs": [
    {
     "data": {
      "text/plain": [
       "0       [part, magic, growing, boy, buy, given, new, h...\n",
       "1       [happy, communication, funkybuys, five, stars,...\n",
       "2       [simple, great, fun, 5my, nephews, face, amazi...\n",
       "3       [love, perfect, earlier, ordered, locomotiveag...\n",
       "4       [bought, grandsons, birthday, currently, colle...\n",
       "                              ...                        \n",
       "9995    [true, batman, classic, series, 1960s, highly,...\n",
       "9996    [christmas, present, however, see, grandson, u...\n",
       "9997                      [arrived, excellent, condition]\n",
       "9998    [okay, hal, jordan, figures, come, go, new, on...\n",
       "9999    [1st, class, kit, top, marks, bandai, good, pa...\n",
       "Name: review, Length: 10000, dtype: object"
      ]
     },
     "execution_count": 102,
     "metadata": {},
     "output_type": "execute_result"
    }
   ],
   "source": [
    "review_df['review']"
   ]
  },
  {
   "cell_type": "code",
   "execution_count": 103,
   "id": "cb92a09d",
   "metadata": {},
   "outputs": [],
   "source": [
    "#Stemming and lemmatization"
   ]
  },
  {
   "cell_type": "code",
   "execution_count": 104,
   "id": "8cd5cfa7",
   "metadata": {},
   "outputs": [],
   "source": [
    "lemmatizer = WordNetLemmatizer()\n",
    "\n",
    "def word_lemmatizer(text):\n",
    "    lem_text = [lemmatizer.lemmatize(i) for i in text]\n",
    "    return lem_text"
   ]
  },
  {
   "cell_type": "code",
   "execution_count": 105,
   "id": "1840fe5b",
   "metadata": {},
   "outputs": [
    {
     "ename": "NameError",
     "evalue": "name 'review_d' is not defined",
     "output_type": "error",
     "traceback": [
      "\u001b[1;31m---------------------------------------------------------------------------\u001b[0m",
      "\u001b[1;31mNameError\u001b[0m                                 Traceback (most recent call last)",
      "\u001b[1;32mC:\\Users\\ASHLIN~1\\AppData\\Local\\Temp/ipykernel_7064/2525517529.py\u001b[0m in \u001b[0;36m<module>\u001b[1;34m\u001b[0m\n\u001b[1;32m----> 1\u001b[1;33m \u001b[0mreview_d\u001b[0m\u001b[1;33m[\u001b[0m\u001b[1;34m'review'\u001b[0m\u001b[1;33m]\u001b[0m\u001b[1;33m.\u001b[0m\u001b[0mapply\u001b[0m\u001b[1;33m(\u001b[0m\u001b[1;32mlambda\u001b[0m \u001b[0mx\u001b[0m\u001b[1;33m:\u001b[0m \u001b[0mword_lemmatizer\u001b[0m\u001b[1;33m(\u001b[0m\u001b[0mx\u001b[0m\u001b[1;33m)\u001b[0m\u001b[1;33m)\u001b[0m\u001b[1;33m\u001b[0m\u001b[1;33m\u001b[0m\u001b[0m\n\u001b[0m",
      "\u001b[1;31mNameError\u001b[0m: name 'review_d' is not defined"
     ]
    }
   ],
   "source": [
    "review_d['review'].apply(lambda x: word_lemmatizer(x))"
   ]
  },
  {
   "cell_type": "code",
   "execution_count": null,
   "id": "abc3eb11",
   "metadata": {},
   "outputs": [],
   "source": [
    "#Instantiate stemmer\n"
   ]
  },
  {
   "cell_type": "code",
   "execution_count": null,
   "id": "9e599319",
   "metadata": {},
   "outputs": [],
   "source": [
    "stemmer = PorterStemmer()"
   ]
  },
  {
   "cell_type": "code",
   "execution_count": null,
   "id": "b2675afc",
   "metadata": {},
   "outputs": [],
   "source": [
    "def word_stemmer(text):\n",
    "        stem_text = \" \".join([stemmer.stem(i) for i in text])\n",
    "        return stem_text"
   ]
  },
  {
   "cell_type": "code",
   "execution_count": null,
   "id": "701cb7a1",
   "metadata": {},
   "outputs": [],
   "source": [
    "review_df['review'] = review_df['review'].apply(lambda x: word_stemmer(x))"
   ]
  },
  {
   "cell_type": "code",
   "execution_count": null,
   "id": "bd1fc40f",
   "metadata": {},
   "outputs": [],
   "source": [
    "review_df['review']"
   ]
  },
  {
   "cell_type": "code",
   "execution_count": null,
   "id": "c2ada15e",
   "metadata": {},
   "outputs": [],
   "source": []
  }
 ],
 "metadata": {
  "kernelspec": {
   "display_name": "Python 3 (ipykernel)",
   "language": "python",
   "name": "python3"
  },
  "language_info": {
   "codemirror_mode": {
    "name": "ipython",
    "version": 3
   },
   "file_extension": ".py",
   "mimetype": "text/x-python",
   "name": "python",
   "nbconvert_exporter": "python",
   "pygments_lexer": "ipython3",
   "version": "3.9.7"
  }
 },
 "nbformat": 4,
 "nbformat_minor": 5
}
